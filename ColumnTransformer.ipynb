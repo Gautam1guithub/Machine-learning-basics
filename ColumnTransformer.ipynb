{
 "cells": [
  {
   "cell_type": "markdown",
   "metadata": {},
   "source": [
    "column transformer"
   ]
  },
  {
   "cell_type": "code",
   "execution_count": null,
   "metadata": {},
   "outputs": [
    {
     "ename": "SyntaxError",
     "evalue": "invalid syntax (1682417602.py, line 7)",
     "output_type": "error",
     "traceback": [
      "\u001b[1;36m  Cell \u001b[1;32mIn[1], line 7\u001b[1;36m\u001b[0m\n\u001b[1;33m    from\u001b[0m\n\u001b[1;37m        ^\u001b[0m\n\u001b[1;31mSyntaxError\u001b[0m\u001b[1;31m:\u001b[0m invalid syntax\n"
     ]
    }
   ],
   "source": [
    "import numpy as numpy\n",
    "import pandas as pd\n",
    "\n",
    "from sKlearn.impure import SimpleImputer\n",
    "from sKlearn.preprocessing import OnehotEncoder\n",
    "\n",
    "from sKlearn.preprocessing"
   ]
  },
  {
   "cell_type": "code",
   "execution_count": null,
   "metadata": {},
   "outputs": [],
   "source": [
    "df.isnull().sum()"
   ]
  },
  {
   "cell_type": "code",
   "execution_count": null,
   "metadata": {},
   "outputs": [],
   "source": [
    "from sKlearn.model_selection import train_test_split\n",
    "\n",
    "x_train , x_test, y_train, y_test = train_test_split(df.drop)(\n",
    "    columns =['has_covid']),df['has_covid'], test_size =0.2)\n",
    ")"
   ]
  },
  {
   "cell_type": "code",
   "execution_count": null,
   "metadata": {},
   "outputs": [],
   "source": [
    "x_train"
   ]
  },
  {
   "cell_type": "code",
   "execution_count": null,
   "metadata": {},
   "outputs": [],
   "source": [
    "Manually type output"
   ]
  },
  {
   "cell_type": "code",
   "execution_count": null,
   "metadata": {},
   "outputs": [],
   "source": [
    "s1 = simpleEnputer(strategy = 'main')\n",
    "x_train_fever = si.fit_transform(x_train[['fever']])\n",
    "\n",
    "#also the test data\n",
    "x_test_fever = si.fit_transform(x_test[['fever']])\n",
    "\n",
    "x_train_fever.shape"
   ]
  },
  {
   "cell_type": "code",
   "execution_count": null,
   "metadata": {},
   "outputs": [],
   "source": [
    "# ordinal Encoding-->cough\n",
    "\n",
    "\n",
    "oe = ordinalEncoder(categories =[['Mild', 'strong']])\n",
    "x_train_cough = oe.fit_transform(x_train[['cough']])\n",
    "\n",
    "\n",
    "# also the yest data\n",
    "\n",
    "x_test_cough = oe.fit_transform(x_test[['couugh']])\n",
    "\n",
    "x_train_cough.shape"
   ]
  },
  {
   "cell_type": "code",
   "execution_count": null,
   "metadata": {},
   "outputs": [],
   "source": [
    "# onehotencoding---->genderr,city\n",
    "\n",
    "ohe =oneHotEncoder(drop= 'first',sparse_output= False)\n",
    "x_train_gender_city =ohe.fit_transform(x_train[['gender,'city']])'\n",
    "\n",
    "\n",
    "# also the test data\n",
    "x_test_gender_city = ohe.fit_transform(x_test[['gender','city']])\n"
   ]
  },
  {
   "cell_type": "code",
   "execution_count": null,
   "metadata": {},
   "outputs": [],
   "source": [
    "# Extrating age\n",
    "\n",
    "x_train_age = x_train.drop(columns=\n",
    "                           ['gender','fever','cough','city']).values\n",
    "\n",
    "\n",
    "# also the test data\n",
    "x_test_age = x_test.drop(columns=\n",
    "                         ['gender','fever','cough','city']).values"
   ]
  },
  {
   "cell_type": "code",
   "execution_count": null,
   "metadata": {},
   "outputs": [],
   "source": [
    "x_train_age.shape"
   ]
  },
  {
   "cell_type": "code",
   "execution_count": null,
   "metadata": {},
   "outputs": [],
   "source": [
    "By the help of column Transformer"
   ]
  },
  {
   "cell_type": "code",
   "execution_count": null,
   "metadata": {},
   "outputs": [],
   "source": [
    "from sKlearn.compose import ColumnTransformer   # this is a import columnTransformer\n",
    "\n",
    "transformer = ColumnTransformer(transformers=[\n",
    "    ('tnf1',SimpleImputer(),['fever']),  # in a fever column by the help of s1 we\n",
    "    # fill the missing values by mean,median,mode,\n",
    "\n",
    "    ('tnf2',OrdinalEncoder(categories=[['Mild','Strong']]),['cough'])  # by this process\n",
    "    # we encode our data\n",
    "    ('tnf3',onHotEncoder(sparse_output=False,drop='first'),['gender','city'])\n",
    "    \n",
    "     )\n"
   ]
  },
  {
   "cell_type": "code",
   "execution_count": null,
   "metadata": {},
   "outputs": [],
   "source": [
    "# covid data\n",
    "\n",
    "# df.dftypes---->\n",
    "# categorical_columns--->missing value fill---> standardsize.\n",
    "# finally connect your all data.\n",
    "# create a function in which as an argument you will pass your data and then your function]\n",
    "# will do your function\n",
    "# will do upper steps"
   ]
  }
 ],
 "metadata": {
  "kernelspec": {
   "display_name": "base",
   "language": "python",
   "name": "python3"
  },
  "language_info": {
   "codemirror_mode": {
    "name": "ipython",
    "version": 3
   },
   "file_extension": ".py",
   "mimetype": "text/x-python",
   "name": "python",
   "nbconvert_exporter": "python",
   "pygments_lexer": "ipython3",
   "version": "3.12.7"
  }
 },
 "nbformat": 4,
 "nbformat_minor": 2
}
